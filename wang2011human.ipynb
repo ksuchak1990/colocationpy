{
 "cells": [
  {
   "cell_type": "markdown",
   "id": "14d3f013-22aa-4810-afe1-b6f327f989d6",
   "metadata": {},
   "source": [
    "# Testing co-location rate and spatial co-location rate"
   ]
  },
  {
   "cell_type": "markdown",
   "id": "263626d3-7202-4ae9-998f-1c825d537d21",
   "metadata": {},
   "source": [
    "## Imports"
   ]
  },
  {
   "cell_type": "code",
   "execution_count": 1,
   "id": "49ff68d0-4f15-48fc-a232-198475e1c6b0",
   "metadata": {},
   "outputs": [],
   "source": [
    "import matplotlib.pyplot as plt\n",
    "import numpy as np\n",
    "import pandas as pd\n",
    "import plotly.express as px\n",
    "import seaborn as sns\n",
    "from colocation.wang_colocation import WangColocation"
   ]
  },
  {
   "cell_type": "markdown",
   "id": "83b58394-c322-4cc6-a52c-b1e3b31a5fce",
   "metadata": {},
   "source": [
    "## Functions"
   ]
  },
  {
   "cell_type": "code",
   "execution_count": 2,
   "id": "01236f6b-f679-4dc3-8955-214540af07c0",
   "metadata": {},
   "outputs": [],
   "source": [
    "def delta(a, b):\n",
    "    return 1 if a == b else 0"
   ]
  },
  {
   "cell_type": "code",
   "execution_count": 3,
   "id": "725e15fe-4660-4dfa-b979-0af1501ba27d",
   "metadata": {},
   "outputs": [],
   "source": [
    "def n(x, df):\n",
    "    tdf = df.loc[df[\"userID\"]==x, :]\n",
    "    return len(tdf)"
   ]
  },
  {
   "cell_type": "code",
   "execution_count": 4,
   "id": "6ef00f90-a6b7-4d98-a0e8-7480fd20d47b",
   "metadata": {},
   "outputs": [],
   "source": [
    "def P(x, l, df):\n",
    "    tdf = df.loc[df[\"userID\"]==x, :]\n",
    "    n_x = n(x, df)\n",
    "    L = list(tdf[\"locationID\"])\n",
    "\n",
    "    total = 0\n",
    "    for i in range (n_x):\n",
    "        a = delta(l, L[i])\n",
    "        b = n_x\n",
    "        total += a / b\n",
    "\n",
    "    return total"
   ]
  },
  {
   "cell_type": "code",
   "execution_count": 5,
   "id": "400946a0-5886-4805-924e-04e367ee59e7",
   "metadata": {},
   "outputs": [],
   "source": [
    "def ML(x, df):\n",
    "    locs = df[\"locationID\"].unique()\n",
    "    Ps = []\n",
    "\n",
    "    for l in locs:\n",
    "        Ps.append((l, P(x, l, df)))\n",
    "\n",
    "    Ps = np.array(Ps)\n",
    "    return np.argmax(Ps, axis=0)[1]"
   ]
  },
  {
   "cell_type": "code",
   "execution_count": 6,
   "id": "f7dc91f3-c9c7-4a19-8471-394f38169e6e",
   "metadata": {},
   "outputs": [],
   "source": [
    "def dist(location1, location2):\n",
    "    x_diff = location1[0] - location2[0]\n",
    "    y_diff = location1[1] - location2[1]\n",
    "\n",
    "    return (x_diff**2 + y_diff**2)**0.5"
   ]
  },
  {
   "cell_type": "code",
   "execution_count": 7,
   "id": "13161da6-1b5a-407d-9bba-d961295a0489",
   "metadata": {},
   "outputs": [],
   "source": [
    "def get_coords(location, locations):\n",
    "    coords = locations.loc[locations[\"locationID\"]==location, [\"x\", \"y\"]]\n",
    "    coords = (coords.iloc[0][\"x\"], coords.iloc[0][\"y\"])\n",
    "    return coords"
   ]
  },
  {
   "cell_type": "code",
   "execution_count": 8,
   "id": "95727176-f091-4daf-bf06-973c81ebc18d",
   "metadata": {},
   "outputs": [],
   "source": [
    "def SCoL(a, b, df):\n",
    "    total = 0\n",
    "\n",
    "    for l in df[\"locationID\"].unique():\n",
    "        total += P(a, l, df) * P(b, l, df)\n",
    "\n",
    "    return total"
   ]
  },
  {
   "cell_type": "code",
   "execution_count": 9,
   "id": "ea9e8aab-bf17-42d8-a73b-c9ba3a58d82f",
   "metadata": {},
   "outputs": [],
   "source": [
    "def get_loc(userID, k, df):\n",
    "    tdf = df.loc[df[\"userID\"]==userID, :]\n",
    "    return tdf.iloc[k][\"locationID\"]"
   ]
  },
  {
   "cell_type": "code",
   "execution_count": 10,
   "id": "5483f5d8-ecc8-4e2e-a6be-0497f8b03f99",
   "metadata": {},
   "outputs": [],
   "source": [
    "def get_T(userID, k, df):\n",
    "    tdf = df.loc[df[\"userID\"]==userID, :]\n",
    "    return tdf.iloc[k][\"time\"]"
   ]
  },
  {
   "cell_type": "code",
   "execution_count": 11,
   "id": "fce8ddc5-3bed-477f-a6cc-8f1a7eca86f1",
   "metadata": {},
   "outputs": [],
   "source": [
    "def CoL(a, b, df, dt=1):\n",
    "    n_x = n(a, df)\n",
    "    n_y = n(b, df)\n",
    "    delta_t = dt\n",
    "\n",
    "    top_total = 0\n",
    "    bottom_total = 0\n",
    "    for i in range(n_x):\n",
    "        for j in range(n_y):\n",
    "            common = np.heaviside(delta_t - abs(get_T(a, i, df) - get_T(b, j, df)), 1)\n",
    "            bottom_total += common\n",
    "            top_total += common * delta(get_loc(a, i, data), get_loc(b, j, data))\n",
    "\n",
    "    return top_total / bottom_total"
   ]
  },
  {
   "cell_type": "markdown",
   "id": "d0ad9396-cc90-42e2-9c58-c77e5b32cd82",
   "metadata": {},
   "source": [
    "## Read data"
   ]
  },
  {
   "cell_type": "code",
   "execution_count": 12,
   "id": "1fe308f6-d9c0-4a19-9dc5-8b4d48c81895",
   "metadata": {},
   "outputs": [
    {
     "data": {
      "text/html": [
       "<div>\n",
       "<style scoped>\n",
       "    .dataframe tbody tr th:only-of-type {\n",
       "        vertical-align: middle;\n",
       "    }\n",
       "\n",
       "    .dataframe tbody tr th {\n",
       "        vertical-align: top;\n",
       "    }\n",
       "\n",
       "    .dataframe thead th {\n",
       "        text-align: right;\n",
       "    }\n",
       "</style>\n",
       "<table border=\"1\" class=\"dataframe\">\n",
       "  <thead>\n",
       "    <tr style=\"text-align: right;\">\n",
       "      <th></th>\n",
       "      <th>locationID</th>\n",
       "      <th>x</th>\n",
       "      <th>y</th>\n",
       "    </tr>\n",
       "  </thead>\n",
       "  <tbody>\n",
       "    <tr>\n",
       "      <th>0</th>\n",
       "      <td>0</td>\n",
       "      <td>0</td>\n",
       "      <td>0</td>\n",
       "    </tr>\n",
       "    <tr>\n",
       "      <th>1</th>\n",
       "      <td>1</td>\n",
       "      <td>4</td>\n",
       "      <td>2</td>\n",
       "    </tr>\n",
       "    <tr>\n",
       "      <th>2</th>\n",
       "      <td>2</td>\n",
       "      <td>6</td>\n",
       "      <td>8</td>\n",
       "    </tr>\n",
       "    <tr>\n",
       "      <th>3</th>\n",
       "      <td>3</td>\n",
       "      <td>14</td>\n",
       "      <td>4</td>\n",
       "    </tr>\n",
       "    <tr>\n",
       "      <th>4</th>\n",
       "      <td>4</td>\n",
       "      <td>8</td>\n",
       "      <td>16</td>\n",
       "    </tr>\n",
       "  </tbody>\n",
       "</table>\n",
       "</div>"
      ],
      "text/plain": [
       "   locationID   x   y\n",
       "0           0   0   0\n",
       "1           1   4   2\n",
       "2           2   6   8\n",
       "3           3  14   4\n",
       "4           4   8  16"
      ]
     },
     "execution_count": 12,
     "metadata": {},
     "output_type": "execute_result"
    }
   ],
   "source": [
    "locations = pd.read_csv(\"locations.csv\")\n",
    "locations.head()"
   ]
  },
  {
   "cell_type": "code",
   "execution_count": 13,
   "id": "1c92107a-abfa-48ed-b92a-525b1b508bbb",
   "metadata": {},
   "outputs": [
    {
     "data": {
      "text/html": [
       "<div>\n",
       "<style scoped>\n",
       "    .dataframe tbody tr th:only-of-type {\n",
       "        vertical-align: middle;\n",
       "    }\n",
       "\n",
       "    .dataframe tbody tr th {\n",
       "        vertical-align: top;\n",
       "    }\n",
       "\n",
       "    .dataframe thead th {\n",
       "        text-align: right;\n",
       "    }\n",
       "</style>\n",
       "<table border=\"1\" class=\"dataframe\">\n",
       "  <thead>\n",
       "    <tr style=\"text-align: right;\">\n",
       "      <th></th>\n",
       "      <th>userID</th>\n",
       "      <th>locationID</th>\n",
       "      <th>time</th>\n",
       "    </tr>\n",
       "  </thead>\n",
       "  <tbody>\n",
       "    <tr>\n",
       "      <th>0</th>\n",
       "      <td>x</td>\n",
       "      <td>0</td>\n",
       "      <td>0</td>\n",
       "    </tr>\n",
       "    <tr>\n",
       "      <th>1</th>\n",
       "      <td>y</td>\n",
       "      <td>0</td>\n",
       "      <td>0</td>\n",
       "    </tr>\n",
       "    <tr>\n",
       "      <th>2</th>\n",
       "      <td>x</td>\n",
       "      <td>1</td>\n",
       "      <td>5</td>\n",
       "    </tr>\n",
       "    <tr>\n",
       "      <th>3</th>\n",
       "      <td>y</td>\n",
       "      <td>1</td>\n",
       "      <td>6</td>\n",
       "    </tr>\n",
       "    <tr>\n",
       "      <th>4</th>\n",
       "      <td>x</td>\n",
       "      <td>2</td>\n",
       "      <td>8</td>\n",
       "    </tr>\n",
       "  </tbody>\n",
       "</table>\n",
       "</div>"
      ],
      "text/plain": [
       "  userID  locationID  time\n",
       "0      x           0     0\n",
       "1      y           0     0\n",
       "2      x           1     5\n",
       "3      y           1     6\n",
       "4      x           2     8"
      ]
     },
     "execution_count": 13,
     "metadata": {},
     "output_type": "execute_result"
    }
   ],
   "source": [
    "data = pd.read_csv(\"data.csv\")\n",
    "data.head()"
   ]
  },
  {
   "cell_type": "markdown",
   "id": "708d6f46-9f9d-4c5b-904e-ef8e18eb0f79",
   "metadata": {},
   "source": [
    "## Testing functions on data"
   ]
  },
  {
   "cell_type": "markdown",
   "id": "c12daf9e-5bd2-48b3-8461-cc78808accfc",
   "metadata": {},
   "source": [
    "Getting the probability of users $x$ and $y$ visiting various locations:"
   ]
  },
  {
   "cell_type": "code",
   "execution_count": 20,
   "id": "f01e101c-b829-4371-b38f-7b0772c774cc",
   "metadata": {},
   "outputs": [
    {
     "data": {
      "text/plain": [
       "0.375"
      ]
     },
     "execution_count": 20,
     "metadata": {},
     "output_type": "execute_result"
    }
   ],
   "source": [
    "P(\"x\", 0, data)"
   ]
  },
  {
   "cell_type": "code",
   "execution_count": 21,
   "id": "dac0f689-9cb6-47b4-95ce-a1821ba05928",
   "metadata": {},
   "outputs": [
    {
     "data": {
      "text/plain": [
       "0.2857142857142857"
      ]
     },
     "execution_count": 21,
     "metadata": {},
     "output_type": "execute_result"
    }
   ],
   "source": [
    "P(\"y\", 1, data)"
   ]
  },
  {
   "cell_type": "markdown",
   "id": "29ae74ae-1c10-4db3-916e-8cc705e94b79",
   "metadata": {},
   "source": [
    "Finding the most likely location of user $x$ and $y$:"
   ]
  },
  {
   "cell_type": "code",
   "execution_count": 22,
   "id": "79adede6-3aa3-4137-b782-cd9aed9a850f",
   "metadata": {},
   "outputs": [
    {
     "data": {
      "text/plain": [
       "0"
      ]
     },
     "execution_count": 22,
     "metadata": {},
     "output_type": "execute_result"
    }
   ],
   "source": [
    "ml_x = ML(\"x\", data)\n",
    "ml_x"
   ]
  },
  {
   "cell_type": "code",
   "execution_count": 23,
   "id": "a86437bc-6ad5-4dc3-8f4b-dfa50ad76711",
   "metadata": {},
   "outputs": [
    {
     "data": {
      "text/plain": [
       "1"
      ]
     },
     "execution_count": 23,
     "metadata": {},
     "output_type": "execute_result"
    }
   ],
   "source": [
    "ml_y = ML(\"y\", data)\n",
    "ml_y"
   ]
  },
  {
   "cell_type": "markdown",
   "id": "580f630f-cae5-447a-8253-4dde33d35c8f",
   "metadata": {},
   "source": [
    "Get coordinates for most likely locations:"
   ]
  },
  {
   "cell_type": "code",
   "execution_count": 24,
   "id": "957c22c2-253b-415e-9882-862169f6a122",
   "metadata": {},
   "outputs": [
    {
     "data": {
      "text/plain": [
       "(0, 0)"
      ]
     },
     "execution_count": 24,
     "metadata": {},
     "output_type": "execute_result"
    }
   ],
   "source": [
    "coords_x = get_coords(ml_x, locations)\n",
    "coords_x"
   ]
  },
  {
   "cell_type": "code",
   "execution_count": 25,
   "id": "a8e0df0c-e4fa-49ee-bb70-980c608533ca",
   "metadata": {},
   "outputs": [
    {
     "data": {
      "text/plain": [
       "(4, 2)"
      ]
     },
     "execution_count": 25,
     "metadata": {},
     "output_type": "execute_result"
    }
   ],
   "source": [
    "coords_y = get_coords(ml_y, locations)\n",
    "coords_y"
   ]
  },
  {
   "cell_type": "markdown",
   "id": "cd43cc94-409a-4b66-adb9-d72f68754b61",
   "metadata": {},
   "source": [
    "Get distance between most likely locations:"
   ]
  },
  {
   "cell_type": "code",
   "execution_count": 26,
   "id": "458c8cbf-c13e-4604-8365-819ad1ca865f",
   "metadata": {},
   "outputs": [
    {
     "data": {
      "text/plain": [
       "4.47213595499958"
      ]
     },
     "execution_count": 26,
     "metadata": {},
     "output_type": "execute_result"
    }
   ],
   "source": [
    "dist(coords_x, coords_y)"
   ]
  },
  {
   "cell_type": "markdown",
   "id": "bde53401-6a43-4d77-bea3-9ebfc9fd2dbb",
   "metadata": {},
   "source": [
    "Calculate spatial co-location rate:"
   ]
  },
  {
   "cell_type": "code",
   "execution_count": 27,
   "id": "7626b372-21aa-44ba-a413-cc656e8ecc40",
   "metadata": {},
   "outputs": [
    {
     "data": {
      "text/plain": [
       "0.12499999999999999"
      ]
     },
     "execution_count": 27,
     "metadata": {},
     "output_type": "execute_result"
    }
   ],
   "source": [
    "SCoL(\"x\", \"y\", data)"
   ]
  },
  {
   "cell_type": "markdown",
   "id": "afc294ba-a827-461a-8f89-44cba8a4f23e",
   "metadata": {},
   "source": [
    "Calculate co-location rate:"
   ]
  },
  {
   "cell_type": "code",
   "execution_count": 28,
   "id": "af1f525d-e502-4294-a23e-6d45fec48dad",
   "metadata": {},
   "outputs": [
    {
     "data": {
      "text/plain": [
       "0.3333333333333333"
      ]
     },
     "execution_count": 28,
     "metadata": {},
     "output_type": "execute_result"
    }
   ],
   "source": [
    "CoL(\"x\", \"y\", data)"
   ]
  },
  {
   "cell_type": "code",
   "execution_count": 29,
   "id": "fdb87e4e-477e-452e-bbfd-2476a5bd96bd",
   "metadata": {},
   "outputs": [],
   "source": [
    "cols = list()\n",
    "for i in range (1, 10):\n",
    "    dt = i\n",
    "    cols.append(CoL(\"x\", \"y\", data, dt))"
   ]
  },
  {
   "cell_type": "markdown",
   "id": "7772cc54-8a09-432d-8a15-9a89787c7b18",
   "metadata": {},
   "source": [
    "## Testing WangColocation class"
   ]
  },
  {
   "cell_type": "code",
   "execution_count": 30,
   "id": "b01a2dbc-43a3-4eb0-8ce9-df8987478e22",
   "metadata": {},
   "outputs": [],
   "source": [
    "wc = WangColocation(data, locations)"
   ]
  },
  {
   "cell_type": "code",
   "execution_count": 31,
   "id": "a962678d-738d-49c7-bba0-bb7f4e4fb5e2",
   "metadata": {},
   "outputs": [
    {
     "data": {
      "text/plain": [
       "array(['x', 'y'], dtype=object)"
      ]
     },
     "execution_count": 31,
     "metadata": {},
     "output_type": "execute_result"
    }
   ],
   "source": [
    "wc.data[\"userID\"].unique()"
   ]
  },
  {
   "cell_type": "code",
   "execution_count": 32,
   "id": "ee0cb36d-eea4-4ccc-868d-864a0acad75b",
   "metadata": {},
   "outputs": [
    {
     "data": {
      "text/plain": [
       "0.3333333333333333"
      ]
     },
     "execution_count": 32,
     "metadata": {},
     "output_type": "execute_result"
    }
   ],
   "source": [
    "wc.get_CoL(\"x\", \"y\")"
   ]
  },
  {
   "cell_type": "code",
   "execution_count": 33,
   "id": "73f4c712-aef9-480c-be4c-d52d41a85527",
   "metadata": {},
   "outputs": [
    {
     "data": {
      "text/plain": [
       "0.12499999999999999"
      ]
     },
     "execution_count": 33,
     "metadata": {},
     "output_type": "execute_result"
    }
   ],
   "source": [
    "wc.get_SCoL(\"x\", \"y\")"
   ]
  }
 ],
 "metadata": {
  "kernelspec": {
   "display_name": "Python 3 (ipykernel)",
   "language": "python",
   "name": "python3"
  },
  "language_info": {
   "codemirror_mode": {
    "name": "ipython",
    "version": 3
   },
   "file_extension": ".py",
   "mimetype": "text/x-python",
   "name": "python",
   "nbconvert_exporter": "python",
   "pygments_lexer": "ipython3",
   "version": "3.12.2"
  }
 },
 "nbformat": 4,
 "nbformat_minor": 5
}
